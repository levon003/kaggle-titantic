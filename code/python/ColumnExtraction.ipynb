{
 "cells": [
  {
   "cell_type": "markdown",
   "metadata": {},
   "source": [
    "Column Extraction for Titanic Dataset\n",
    "===\n",
    "\n",
    "Derives a few potentially interesting variables from the existing raw data.\n",
    "\n",
    "Writes out the new columns to a separate sheet for later merging."
   ]
  },
  {
   "cell_type": "code",
   "execution_count": 65,
   "metadata": {
    "collapsed": true
   },
   "outputs": [],
   "source": [
    "import pandas as pd\n",
    "from collections import Counter\n",
    "import re"
   ]
  },
  {
   "cell_type": "code",
   "execution_count": 4,
   "metadata": {
    "collapsed": true
   },
   "outputs": [],
   "source": [
    "train = pd.read_csv(\"../../data/raw/train.csv\")\n",
    "test = pd.read_csv(\"../../data/raw/train.csv\")"
   ]
  },
  {
   "cell_type": "code",
   "execution_count": 5,
   "metadata": {},
   "outputs": [],
   "source": [
    "test[\"Survived\"] = 2"
   ]
  },
  {
   "cell_type": "code",
   "execution_count": 9,
   "metadata": {},
   "outputs": [
    {
     "data": {
      "text/plain": [
       "1782"
      ]
     },
     "execution_count": 9,
     "metadata": {},
     "output_type": "execute_result"
    }
   ],
   "source": [
    "df = pd.concat((train, test))\n",
    "len(df)"
   ]
  },
  {
   "cell_type": "code",
   "execution_count": 10,
   "metadata": {},
   "outputs": [
    {
     "data": {
      "text/html": [
       "<div>\n",
       "<style>\n",
       "    .dataframe thead tr:only-child th {\n",
       "        text-align: right;\n",
       "    }\n",
       "\n",
       "    .dataframe thead th {\n",
       "        text-align: left;\n",
       "    }\n",
       "\n",
       "    .dataframe tbody tr th {\n",
       "        vertical-align: top;\n",
       "    }\n",
       "</style>\n",
       "<table border=\"1\" class=\"dataframe\">\n",
       "  <thead>\n",
       "    <tr style=\"text-align: right;\">\n",
       "      <th></th>\n",
       "      <th>PassengerId</th>\n",
       "      <th>Survived</th>\n",
       "      <th>Pclass</th>\n",
       "      <th>Name</th>\n",
       "      <th>Sex</th>\n",
       "      <th>Age</th>\n",
       "      <th>SibSp</th>\n",
       "      <th>Parch</th>\n",
       "      <th>Ticket</th>\n",
       "      <th>Fare</th>\n",
       "      <th>Cabin</th>\n",
       "      <th>Embarked</th>\n",
       "    </tr>\n",
       "  </thead>\n",
       "  <tbody>\n",
       "    <tr>\n",
       "      <th>0</th>\n",
       "      <td>1</td>\n",
       "      <td>0</td>\n",
       "      <td>3</td>\n",
       "      <td>Braund, Mr. Owen Harris</td>\n",
       "      <td>male</td>\n",
       "      <td>22.0</td>\n",
       "      <td>1</td>\n",
       "      <td>0</td>\n",
       "      <td>A/5 21171</td>\n",
       "      <td>7.2500</td>\n",
       "      <td>NaN</td>\n",
       "      <td>S</td>\n",
       "    </tr>\n",
       "    <tr>\n",
       "      <th>1</th>\n",
       "      <td>2</td>\n",
       "      <td>1</td>\n",
       "      <td>1</td>\n",
       "      <td>Cumings, Mrs. John Bradley (Florence Briggs Th...</td>\n",
       "      <td>female</td>\n",
       "      <td>38.0</td>\n",
       "      <td>1</td>\n",
       "      <td>0</td>\n",
       "      <td>PC 17599</td>\n",
       "      <td>71.2833</td>\n",
       "      <td>C85</td>\n",
       "      <td>C</td>\n",
       "    </tr>\n",
       "    <tr>\n",
       "      <th>2</th>\n",
       "      <td>3</td>\n",
       "      <td>1</td>\n",
       "      <td>3</td>\n",
       "      <td>Heikkinen, Miss. Laina</td>\n",
       "      <td>female</td>\n",
       "      <td>26.0</td>\n",
       "      <td>0</td>\n",
       "      <td>0</td>\n",
       "      <td>STON/O2. 3101282</td>\n",
       "      <td>7.9250</td>\n",
       "      <td>NaN</td>\n",
       "      <td>S</td>\n",
       "    </tr>\n",
       "  </tbody>\n",
       "</table>\n",
       "</div>"
      ],
      "text/plain": [
       "   PassengerId  Survived  Pclass  \\\n",
       "0            1         0       3   \n",
       "1            2         1       1   \n",
       "2            3         1       3   \n",
       "\n",
       "                                                Name     Sex   Age  SibSp  \\\n",
       "0                            Braund, Mr. Owen Harris    male  22.0      1   \n",
       "1  Cumings, Mrs. John Bradley (Florence Briggs Th...  female  38.0      1   \n",
       "2                             Heikkinen, Miss. Laina  female  26.0      0   \n",
       "\n",
       "   Parch            Ticket     Fare Cabin Embarked  \n",
       "0      0         A/5 21171   7.2500   NaN        S  \n",
       "1      0          PC 17599  71.2833   C85        C  \n",
       "2      0  STON/O2. 3101282   7.9250   NaN        S  "
      ]
     },
     "execution_count": 10,
     "metadata": {},
     "output_type": "execute_result"
    }
   ],
   "source": [
    "df.head(n=3)"
   ]
  },
  {
   "cell_type": "markdown",
   "metadata": {},
   "source": [
    "## Ticket Cols"
   ]
  },
  {
   "cell_type": "code",
   "execution_count": 37,
   "metadata": {},
   "outputs": [
    {
     "data": {
      "text/plain": [
       "0           A/5 21171\n",
       "1            PC 17599\n",
       "2    STON/O2. 3101282\n",
       "3              113803\n",
       "4              373450\n",
       "5              330877\n",
       "6               17463\n",
       "7              349909\n",
       "8              347742\n",
       "9              237736\n",
       "Name: Ticket, dtype: object"
      ]
     },
     "execution_count": 37,
     "metadata": {},
     "output_type": "execute_result"
    }
   ],
   "source": [
    "tickets = df[\"Ticket\"]\n",
    "tickets[:10]"
   ]
  },
  {
   "cell_type": "code",
   "execution_count": 38,
   "metadata": {
    "collapsed": true
   },
   "outputs": [],
   "source": [
    "t = list(tickets)"
   ]
  },
  {
   "cell_type": "code",
   "execution_count": 58,
   "metadata": {},
   "outputs": [
    {
     "name": "stdout",
     "output_type": "stream",
     "text": [
      "Weird tix: multiple parts STON/O 2. 3101294\n",
      "Weird tix: multiple parts STON/O 2. 3101280\n",
      "Weird tix: multiple parts STON/O 2. 3101275\n",
      "Weird tix: multiple parts STON/O 2. 3101293\n",
      "Weird tix: multiple parts STON/O 2. 3101289\n",
      "Weird tix: multiple parts STON/O 2. 3101269\n",
      "Weird tix: multiple parts STON/O 2. 3101274\n",
      "Weird tix: multiple parts SC/AH Basle 541\n",
      "Weird tix: multiple parts STON/O 2. 3101286\n",
      "Weird tix: multiple parts STON/O 2. 3101273\n",
      "Weird tix: multiple parts STON/O 2. 3101292\n",
      "Weird tix: multiple parts STON/O 2. 3101285\n",
      "Weird tix: multiple parts STON/O 2. 3101288\n",
      "Weird tix: multiple parts STON/O 2. 3101294\n",
      "Weird tix: multiple parts STON/O 2. 3101280\n",
      "Weird tix: multiple parts STON/O 2. 3101275\n",
      "Weird tix: multiple parts STON/O 2. 3101293\n",
      "Weird tix: multiple parts STON/O 2. 3101289\n",
      "Weird tix: multiple parts STON/O 2. 3101269\n",
      "Weird tix: multiple parts STON/O 2. 3101274\n",
      "Weird tix: multiple parts SC/AH Basle 541\n",
      "Weird tix: multiple parts STON/O 2. 3101286\n",
      "Weird tix: multiple parts STON/O 2. 3101273\n",
      "Weird tix: multiple parts STON/O 2. 3101292\n",
      "Weird tix: multiple parts STON/O 2. 3101285\n",
      "Weird tix: multiple parts STON/O 2. 3101288\n"
     ]
    }
   ],
   "source": [
    "tix_cats = []\n",
    "for ticket in tickets:\n",
    "    if ticket.isdigit():\n",
    "        tix_cat = \"digit\"\n",
    "        tix_cats.append(tix_cat)\n",
    "        continue\n",
    "    parts = ticket.split(\" \")\n",
    "    if len(parts) > 2:\n",
    "        print(\"Weird tix: multiple parts\", ticket)\n",
    "    if len(parts) == 2:\n",
    "        if not parts[1].isdigit():\n",
    "            print(\"Weird tix: non-digit\", ticket)\n",
    "    if len(parts) == 1:\n",
    "        tix_cat = parts[0]\n",
    "    else:\n",
    "        tix_cat = \" \".join(parts[:-1])\n",
    "    tix_cat = tix_cat.replace(\".\", \"\")\n",
    "    if tix_cat == \"\":\n",
    "        print(\"Weird tix: no digit\", ticket)\n",
    "    tix_cats.append(tix_cat)\n",
    "df[\"ticket_category\"] = tix_cats"
   ]
  },
  {
   "cell_type": "code",
   "execution_count": 63,
   "metadata": {},
   "outputs": [
    {
     "data": {
      "text/plain": [
       "[('digit', 1322),\n",
       " ('PC', 120),\n",
       " ('CA', 82),\n",
       " ('A/5', 38),\n",
       " ('SOTON/OQ', 30),\n",
       " ('STON/O 2', 24),\n",
       " ('W/C', 20),\n",
       " ('SC/PARIS', 14),\n",
       " ('STON/O2', 12),\n",
       " ('A/4', 12),\n",
       " ('SOC', 10),\n",
       " ('C', 10),\n",
       " ('FCC', 10),\n",
       " ('SC/Paris', 8),\n",
       " ('LINE', 8),\n",
       " ('PP', 6),\n",
       " ('SO/PP', 6),\n",
       " ('A5', 4),\n",
       " ('SW/PP', 4),\n",
       " ('P/PP', 4),\n",
       " ('SC/AH', 4),\n",
       " ('WE/P', 4),\n",
       " ('SOTON/O2', 4),\n",
       " ('SC/A4', 2),\n",
       " ('SP', 2),\n",
       " ('SO/C', 2),\n",
       " ('WEP', 2),\n",
       " ('A4', 2),\n",
       " ('SOP', 2),\n",
       " ('Fa', 2),\n",
       " ('SCO/W', 2),\n",
       " ('SC', 2),\n",
       " ('A/S', 2),\n",
       " ('SC/AH Basle', 2),\n",
       " ('FC', 2),\n",
       " ('CA/SOTON', 2)]"
      ]
     },
     "execution_count": 63,
     "metadata": {},
     "output_type": "execute_result"
    }
   ],
   "source": [
    "tix_cat_counts = Counter(tix_cats).most_common()\n",
    "tix_cat_counts"
   ]
  },
  {
   "cell_type": "code",
   "execution_count": 64,
   "metadata": {},
   "outputs": [],
   "source": [
    "# Run some consolidation of categories...\n",
    "#TODO Identify which columns should actually be merged!\n"
   ]
  },
  {
   "cell_type": "code",
   "execution_count": 60,
   "metadata": {},
   "outputs": [
    {
     "name": "stderr",
     "output_type": "stream",
     "text": [
      "/home/levoniaz/anaconda3/lib/python3.6/site-packages/ipykernel_launcher.py:7: SettingWithCopyWarning: \n",
      "A value is trying to be set on a copy of a slice from a DataFrame\n",
      "\n",
      "See the caveats in the documentation: http://pandas.pydata.org/pandas-docs/stable/indexing.html#indexing-view-versus-copy\n",
      "  import sys\n"
     ]
    }
   ],
   "source": [
    "# consolidate lower-count cabin letters into a single factor level\n",
    "threshold = 7\n",
    "drop_low_counts = False  # should we drop low counts, or generate a new factor?\n",
    "new_tix_cat = None if drop_low_counts else \"other\"\n",
    "for tix_cat, count in tix_cat_counts:\n",
    "    if count < threshold:\n",
    "        df[\"ticket_category\"][df[\"ticket_category\"] == tix_cat] = new_tix_cat"
   ]
  },
  {
   "cell_type": "code",
   "execution_count": 62,
   "metadata": {},
   "outputs": [
    {
     "data": {
      "text/plain": [
       "[('digit', 1322),\n",
       " ('PC', 120),\n",
       " ('CA', 82),\n",
       " ('other', 62),\n",
       " ('A/5', 38),\n",
       " ('SOTON/OQ', 30),\n",
       " ('STON/O 2', 24),\n",
       " ('W/C', 20),\n",
       " ('SC/PARIS', 14),\n",
       " ('STON/O2', 12),\n",
       " ('A/4', 12),\n",
       " ('SOC', 10),\n",
       " ('C', 10),\n",
       " ('FCC', 10),\n",
       " ('SC/Paris', 8),\n",
       " ('LINE', 8)]"
      ]
     },
     "execution_count": 62,
     "metadata": {},
     "output_type": "execute_result"
    }
   ],
   "source": [
    "Counter(df[\"ticket_category\"]).most_common()"
   ]
  },
  {
   "cell_type": "markdown",
   "metadata": {},
   "source": [
    "## Cabin Cols"
   ]
  },
  {
   "cell_type": "code",
   "execution_count": 26,
   "metadata": {
    "scrolled": true
   },
   "outputs": [
    {
     "data": {
      "text/plain": [
       "0     NaN\n",
       "1     C85\n",
       "2     NaN\n",
       "3    C123\n",
       "4     NaN\n",
       "5     NaN\n",
       "6     E46\n",
       "7     NaN\n",
       "8     NaN\n",
       "9     NaN\n",
       "Name: Cabin, dtype: object"
      ]
     },
     "execution_count": 26,
     "metadata": {},
     "output_type": "execute_result"
    }
   ],
   "source": [
    "df[\"Cabin\"][:10]"
   ]
  },
  {
   "cell_type": "code",
   "execution_count": 27,
   "metadata": {},
   "outputs": [
    {
     "data": {
      "text/plain": [
       "[(nan, 1374),\n",
       " ('G6', 8),\n",
       " ('C23 C25 C27', 8),\n",
       " ('B96 B98', 8),\n",
       " ('F33', 6),\n",
       " ('E101', 6),\n",
       " ('F2', 6),\n",
       " ('D', 6),\n",
       " ('C22 C26', 6),\n",
       " ('C123', 4),\n",
       " ('D33', 4),\n",
       " ('C52', 4),\n",
       " ('B28', 4),\n",
       " ('C83', 4),\n",
       " ('F G73', 4),\n",
       " ('D26', 4),\n",
       " ('B58 B60', 4),\n",
       " ('C2', 4),\n",
       " ('E33', 4),\n",
       " ('F4', 4)]"
      ]
     },
     "execution_count": 27,
     "metadata": {},
     "output_type": "execute_result"
    }
   ],
   "source": [
    "Counter(df[\"Cabin\"]).most_common()[:20]"
   ]
  },
  {
   "cell_type": "code",
   "execution_count": 28,
   "metadata": {},
   "outputs": [],
   "source": [
    "cabin_letters = []\n",
    "for cabin in df[\"Cabin\"]:\n",
    "    if cabin is None:\n",
    "        cabin_letters.append(\"n\")\n",
    "    else:\n",
    "        cabin = str(cabin)\n",
    "        cabin_letters.append(cabin[0])\n",
    "        # Taking the first letter is generally safe, although there are a few entries with multiple letter types\n",
    "df[\"cabin_first_letter\"] = cabin_letters"
   ]
  },
  {
   "cell_type": "code",
   "execution_count": 29,
   "metadata": {},
   "outputs": [
    {
     "data": {
      "text/plain": [
       "[('n', 1374),\n",
       " ('C', 118),\n",
       " ('B', 94),\n",
       " ('D', 66),\n",
       " ('E', 64),\n",
       " ('A', 30),\n",
       " ('F', 26),\n",
       " ('G', 8),\n",
       " ('T', 2)]"
      ]
     },
     "execution_count": 29,
     "metadata": {},
     "output_type": "execute_result"
    }
   ],
   "source": [
    "cabin_letter_counts = Counter(df[\"cabin_first_letter\"]).most_common()\n",
    "cabin_letter_counts"
   ]
  },
  {
   "cell_type": "code",
   "execution_count": 34,
   "metadata": {},
   "outputs": [],
   "source": [
    "# consolidate lower-count cabin letters into a single factor level\n",
    "threshold = 40\n",
    "drop_low_counts = False  # should we drop low counts, or generate a new factor?\n",
    "new_cabin_letter = \"n\" if drop_low_counts else \"o\"\n",
    "for cabin_letter, count in cabin_letter_counts:\n",
    "    if count < threshold:\n",
    "        df[\"cabin_first_letter\"][df[\"cabin_first_letter\"] == cabin_letter] = new_cabin_letter"
   ]
  },
  {
   "cell_type": "code",
   "execution_count": 35,
   "metadata": {},
   "outputs": [
    {
     "data": {
      "text/plain": [
       "[('n', 1374), ('C', 118), ('B', 94), ('o', 66), ('D', 66), ('E', 64)]"
      ]
     },
     "execution_count": 35,
     "metadata": {},
     "output_type": "execute_result"
    }
   ],
   "source": [
    "cabin_letter_counts = Counter(df[\"cabin_first_letter\"]).most_common()\n",
    "cabin_letter_counts"
   ]
  },
  {
   "cell_type": "markdown",
   "metadata": {},
   "source": [
    "## Name Cols"
   ]
  },
  {
   "cell_type": "code",
   "execution_count": 12,
   "metadata": {},
   "outputs": [
    {
     "data": {
      "text/plain": [
       "0                              Braund, Mr. Owen Harris\n",
       "1    Cumings, Mrs. John Bradley (Florence Briggs Th...\n",
       "2                               Heikkinen, Miss. Laina\n",
       "3         Futrelle, Mrs. Jacques Heath (Lily May Peel)\n",
       "4                             Allen, Mr. William Henry\n",
       "5                                     Moran, Mr. James\n",
       "6                              McCarthy, Mr. Timothy J\n",
       "7                       Palsson, Master. Gosta Leonard\n",
       "8    Johnson, Mrs. Oscar W (Elisabeth Vilhelmina Berg)\n",
       "9                  Nasser, Mrs. Nicholas (Adele Achem)\n",
       "Name: Name, dtype: object"
      ]
     },
     "execution_count": 12,
     "metadata": {},
     "output_type": "execute_result"
    }
   ],
   "source": [
    "df[\"Name\"][:10]"
   ]
  },
  {
   "cell_type": "code",
   "execution_count": 88,
   "metadata": {},
   "outputs": [],
   "source": [
    "name_word_lengths = []\n",
    "name_char_lengths = []\n",
    "name_titles = []\n",
    "\n",
    "raw_name_titles = []\n",
    "# Based on a quick historic assessment of the use of these honorifics,\n",
    "# I mapped passenger titles to sub-categories\n",
    "name_title_map = {\n",
    "    \"Ms.\": \"Miss.\",\n",
    "    \"Mlle.\": \"Miss.\",\n",
    "    \"Major.\": \"Military\",\n",
    "    \"Col.\": \"Military\",\n",
    "    \"Capt.\": \"Military\",\n",
    "    \"Don.\": \"Nobility\",\n",
    "    \"Mme.\": \"Mrs.\",\n",
    "    \"Lady.\": \"Nobility\",\n",
    "    \"Sir.\": \"Nobility\",\n",
    "    \"Countess.\": \"Nobility\",\n",
    "    \"Jonkheer.\": \"Nobility\",\n",
    "}\n",
    "\n",
    "for name in df[\"Name\"]:\n",
    "    new_name = re.sub(\n",
    "           r\"\\(.+\\)\", \n",
    "           \"\", \n",
    "           name)\n",
    "    name_parts = new_name.split(\" \")\n",
    "    title_found = False\n",
    "    for name_part in name_parts:\n",
    "        if \".\" in name_part:\n",
    "            title_found = True\n",
    "            raw_name_titles.append(name_part)\n",
    "            title = name_part\n",
    "            if title in name_title_map:\n",
    "                title = name_title_map[title]\n",
    "            #if title not in [\"Mr.\", \"Miss.\", \"Mrs.\", \"Master.\", \"Dr.\", \"Rev.\"]:\n",
    "            name_titles.append(title)\n",
    "            \n",
    "    name_length = len(name_parts)\n",
    "    if title_found:\n",
    "        name_length -= 1\n",
    "    if name_length >= 5:\n",
    "        # Count all names as 5+ words as 5 words\n",
    "        name_length = 5\n",
    "    name_word_lengths.append(name_length)\n",
    "    \n",
    "    #TODO This implementation is quite useless right now...\n",
    "    char_length = len(\"\".join(name_parts))\n",
    "    name_char_lengths.append(char_length)\n",
    "    \n",
    "df[\"name_word_length\"] = name_word_lengths\n",
    "df[\"name_char_length\"] = name_char_lengths\n",
    "df[\"name_title\"] = name_titles"
   ]
  },
  {
   "cell_type": "code",
   "execution_count": 89,
   "metadata": {},
   "outputs": [
    {
     "data": {
      "text/plain": [
       "[('Mr.', 1034),\n",
       " ('Miss.', 364),\n",
       " ('Mrs.', 250),\n",
       " ('Master.', 80),\n",
       " ('Dr.', 14),\n",
       " ('Rev.', 12),\n",
       " ('Major.', 4),\n",
       " ('Mlle.', 4),\n",
       " ('Col.', 4),\n",
       " ('Don.', 2),\n",
       " ('Mme.', 2),\n",
       " ('Ms.', 2),\n",
       " ('Lady.', 2),\n",
       " ('Sir.', 2),\n",
       " ('Capt.', 2),\n",
       " ('Countess.', 2),\n",
       " ('Jonkheer.', 2)]"
      ]
     },
     "execution_count": 89,
     "metadata": {},
     "output_type": "execute_result"
    }
   ],
   "source": [
    "Counter(raw_name_titles).most_common()"
   ]
  },
  {
   "cell_type": "code",
   "execution_count": 86,
   "metadata": {},
   "outputs": [
    {
     "data": {
      "text/plain": [
       "[('Mr.', 1034),\n",
       " ('Miss.', 370),\n",
       " ('Mrs.', 252),\n",
       " ('Master.', 80),\n",
       " ('Dr.', 14),\n",
       " ('Rev.', 12),\n",
       " ('Nobility', 10),\n",
       " ('Military', 10)]"
      ]
     },
     "execution_count": 86,
     "metadata": {},
     "output_type": "execute_result"
    }
   ],
   "source": [
    "Counter(name_titles).most_common()"
   ]
  },
  {
   "cell_type": "code",
   "execution_count": 90,
   "metadata": {},
   "outputs": [
    {
     "data": {
      "text/plain": [
       "[(3, 862), (2, 628), (4, 264), (5, 28)]"
      ]
     },
     "execution_count": 90,
     "metadata": {},
     "output_type": "execute_result"
    }
   ],
   "source": [
    "Counter(df[\"name_word_length\"]).most_common()"
   ]
  },
  {
   "cell_type": "code",
   "execution_count": null,
   "metadata": {
    "collapsed": true
   },
   "outputs": [],
   "source": []
  }
 ],
 "metadata": {
  "kernelspec": {
   "display_name": "Python 3",
   "language": "python",
   "name": "python3"
  },
  "language_info": {
   "codemirror_mode": {
    "name": "ipython",
    "version": 3
   },
   "file_extension": ".py",
   "mimetype": "text/x-python",
   "name": "python",
   "nbconvert_exporter": "python",
   "pygments_lexer": "ipython3",
   "version": "3.6.1"
  }
 },
 "nbformat": 4,
 "nbformat_minor": 2
}
